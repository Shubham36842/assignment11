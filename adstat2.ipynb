{
 "cells": [
  {
   "cell_type": "raw",
   "id": "5aa4416b-8ee8-4085-8056-178d1191c215",
   "metadata": {},
   "source": [
    "Q1: What are the Probability Mass Function (PMF) and Probability Density Function (PDF)? Explain with an example.\n"
   ]
  },
  {
   "cell_type": "raw",
   "id": "0f5a00db-3e81-42b7-8547-38a42ddee045",
   "metadata": {},
   "source": [
    "Ans:-The Probability Mass Function (PMF) is also called a probability function or frequency        function which characterizes the distribution of a discrete random variable.probability        mass function is a function that relates discrete events to the probabilities associated      with those events occurring. The word “mass“ indicates the probabilities that are              concentrated on discrete events.\n",
    "\n",
    "     The PDF is a function that describes the probability of a continuous random variable          taking on a certain value. It is a mathematical function that describes the probability        that a random variable will fall within a certain range of values.Probability density          function gives the probability that a continuous random variable will lie between a            certain specified interval. It is used for discrete random variables."
   ]
  },
  {
   "cell_type": "raw",
   "id": "3069e281-3fcf-46b1-bec7-004a3759bc72",
   "metadata": {},
   "source": [
    "Q2: What is Cumulative Density Function (CDF)? Explain with an example. Why CDF is used?\n"
   ]
  },
  {
   "cell_type": "raw",
   "id": "ac88ec66-7c5b-4fa8-b51a-81358b53928a",
   "metadata": {},
   "source": [
    "Ans:-The CDF is a function that describes the probability that a random variable (continuous        or discrete) will take on a value less than or equal to a certain value. It is a              mathematical function that describes the probability that a random variable will fall          within a certain range of values, up to and including a specific value.\n",
    "  \n",
    "     The cumulative distribution function (CDF) of a random variable is another method to          describe the distribution of random variables. The advantage of the CDF is that it can be      defined for any kind of random variable (discrete, continuous, and mixed).\n",
    "      \n",
    "      Use the CDF to determine the probability that a random observation that is taken from         the population will be less than or equal to a certain value.\n",
    "      \n",
    "      Example- Suppose we have a family with three children. The sample space for this                        situation is\n",
    "             \n",
    "                 S={BBB,BBG,BGB,GBB,GGG,GGB,GBG,BGG}\n",
    "               where \n",
    "                  B= boy and \n",
    "                  G = girl and suppose the probability of having a boy is the same as the                       probability of having a girl. "
   ]
  },
  {
   "cell_type": "raw",
   "id": "56f019f7-5bd3-4d44-8ef5-cf463136d5c5",
   "metadata": {},
   "source": [
    "Q3: What are some examples of situations where the normal distribution might be used as a model?Explain how the parameters of the normal distribution relate to the shape of the distribution.\n"
   ]
  },
  {
   "cell_type": "raw",
   "id": "72966131-ed8d-4e2c-82e5-876e7b9c4d27",
   "metadata": {},
   "source": [
    "Ans:-The height of people is an example of normal distribution. Most of the people in a            specific population are of average height. The number of people taller and shorter than        the average height people is almost equal, and a very small number of people are either        extremely tall or extremely short.\n",
    "  \n",
    "    mode=mean=median -> symmetric distribution\n",
    "    mode!=mean!=median ->Asymmetric distribution\n",
    "    mode>median>mean -> negative skewwed\n",
    "    mode<median<mean   -> positive skewwed"
   ]
  },
  {
   "cell_type": "raw",
   "id": "95e814c8-ab14-4adb-8c6a-46d10c46cad6",
   "metadata": {},
   "source": [
    "Q4: Explain the importance of Normal Distribution. Give a few real-life examples of Normal\n",
    "Distribution. \n"
   ]
  },
  {
   "cell_type": "raw",
   "id": "cd0acdfc-7a6d-43e9-a0cf-b92a46f466fa",
   "metadata": {},
   "source": [
    "Ans:-The normal distribution is important is that many psychological and educational variables      are distributed approximately normally. Measures of reading ability, introversion, job        satisfaction, and memory are among the many psychological variables approximately              normally distributed.\n",
    "\n",
    "Importance of normal distribution\n",
    "\n",
    "1)It has one of the important properties called central theorem. Central theorem means           relationship between shape of population distribution and shape of sampling                   distribution of mean. This means that sampling distribution of mean approaches normal         as sample size increase.\n",
    "\n",
    "2)In case the sample size is large the normal distribution serves as good approximation.\n",
    "\n",
    "3)Due to its mathematical properties it is more popular and easy to calculate.\n",
    "\n",
    "4)It is used in statistical quality control in setting up of control limits.\n",
    "\n",
    "5)The whole theory of sample tests t, f and chi-square test is based on the normal               distribution.\n",
    "\n"
   ]
  },
  {
   "cell_type": "raw",
   "id": "592dd951-636f-4fee-bd7f-fef9b0dbfeb3",
   "metadata": {},
   "source": [
    "Q5: What is Bernaulli Distribution? Give an Example. What is the difference between Bernoulli\n",
    "Distribution and Binomial Distribution?\n"
   ]
  },
  {
   "cell_type": "raw",
   "id": "0004ba31-eff1-4260-9ed0-5e6dda82d081",
   "metadata": {},
   "source": [
    "Ans:-\n",
    "Bernoulli Distribution:Bernoulli distribution is a discrete probability distribution. It                              describes the probability of achieving a “success” or “failure” from a                        Bernoulli trial. A Bernoulli trial is an event that has only two                              possible outcomes (success or failure).Example-Tossing of coin\n",
    "\n",
    "Bernoulli deals with the outcome of the single trial of the event, whereas Binomial deals with the outcome of the multiple trials of the single event. Bernoulli is used when the outcome of an event is required for only one time, whereas the Binomial is used when the outcome of an event is required multiple times."
   ]
  },
  {
   "cell_type": "raw",
   "id": "7487dfa8-2111-4f8c-a342-2633e9c74db7",
   "metadata": {},
   "source": [
    "Q6. Consider a dataset with a mean of 50 and a standard deviation of 10. If we assume that the dataset is normally distributed, what is the probability that a randomly selected observation will be greater than 60? Use the appropriate formula and show your calculations.\n"
   ]
  },
  {
   "cell_type": "raw",
   "id": "a1383948-7fcd-48b1-a33a-ebff44439037",
   "metadata": {},
   "source": [
    "Ans:-Given->\n",
    "             mean=50\n",
    "             sd=10\n",
    "  Normal distribution is given by-\n",
    "     \n",
    "             p(x) = e−(x − μ)2/2σ2/σ √2π\n",
    "             \n",
    " putting x=60  which is mean+sd that is lies in first varience of noraml disrtibution(covesrs 68% area ) then covers an area (0.50+0.34)=0.84\n",
    "             p(x=60)=0.84\n",
    " now we have to find out area x>60 then we need to do\n",
    "            p(x>60)=1-p(x=60)\n",
    "                   =1-0.84\n",
    "                   =0.16\n",
    "                   \n",
    "                Ans=0.16   "
   ]
  },
  {
   "cell_type": "raw",
   "id": "6721ebf9-1e69-4f8b-91a8-09d5bcc1b293",
   "metadata": {},
   "source": [
    "Q7: Explain uniform Distribution with an example.\n"
   ]
  },
  {
   "cell_type": "raw",
   "id": "77a898e0-b569-4303-9fb8-3e8c7885267c",
   "metadata": {},
   "source": [
    "Ans-\n",
    "The uniform distribution is a symmetric probability distribution where all outcomes have an equal likelihood of occurring. All values in the distribution have a constant probability, making them uniformly distributed. This distribution is also known as the rectangular distribution because of its shape in probability distribution plots, as I’ll show you below.\n",
    "\n",
    "Uniform distributions come in both discrete and continuous varieties of probability distributions.\n",
    "\n",
    "Discrete: Each discrete value has an equal probability. For example, the chances of obtaining any of the six values on a die are equal.\n",
    "\n",
    "Continuous: Models symmetric, continuous data where all equal sized ranges have the same probability. For example, values are equally like to fall in the range of 0.1 – 0.2 as they are in 0.4 – 0.5.\n",
    "\n",
    "Both forms of the uniform distribution have two parameters, a and b. These values represent the smallest and largest values in the distribution.\n",
    "\n",
    "Uniform Distribution Examples\n",
    "In real life, analysts use the uniform distribution to model the following outcomes because they are uniformly distributed:\n",
    "\n",
    "Rolling dice and coin tosses.\n",
    "The probability of drawing any card from a deck of cards.\n",
    "Random sampling because that method depends on population members having equal chances.\n",
    "P-values in hypothesis tests follow the uniform distribution when the null hypothesis is true under certain conditions.\n",
    "Random number generators use the uniform distribution because no number should be more common than other numbers.\n",
    "Radioactive decay of particles over time.\n"
   ]
  },
  {
   "cell_type": "raw",
   "id": "47851d50-9f65-4a6e-b7fb-fbef9e7ec72d",
   "metadata": {},
   "source": [
    "Q8: What is the z score? State the importance of the z score.\n"
   ]
  },
  {
   "cell_type": "raw",
   "id": "e1a0d749-bf47-43ec-930d-88dcbc793372",
   "metadata": {},
   "source": [
    "Ans:-Z-score is a statistical measurement that describes a value's relationship to the mean of      a group of values. Z-score is measured in terms of standard deviations from the mean. If      a Z-score is 0, it indicates that the data point's score is identical to the mean score.\n",
    "     \n",
    "     Z-test is a statistical analysis tool that measures the average mean of two large data        samples when the standard deviation is known. It only applies to a population that            follows a normal distribution; It is typically used when the data samples are greater          than 30.\n",
    "     \n",
    "     Z-scores are useful in practice because they can: be applied to the individual or              population; pinpoint any given weight and height, noting improvement or deterioration          over time in relation to the reference values; and. classify children of all ages and          sizes equally."
   ]
  },
  {
   "cell_type": "raw",
   "id": "52b6607f-0d14-4556-b39b-b1f684328c3c",
   "metadata": {},
   "source": [
    "Q9: What is Central Limit Theorem? State the significance of the Central Limit Theorem.\n"
   ]
  },
  {
   "cell_type": "raw",
   "id": "08e038d4-c6b5-40e7-99d6-f9b093b31cfe",
   "metadata": {},
   "source": [
    "Ans:-"
   ]
  }
 ],
 "metadata": {
  "kernelspec": {
   "display_name": "Python 3 (ipykernel)",
   "language": "python",
   "name": "python3"
  },
  "language_info": {
   "codemirror_mode": {
    "name": "ipython",
    "version": 3
   },
   "file_extension": ".py",
   "mimetype": "text/x-python",
   "name": "python",
   "nbconvert_exporter": "python",
   "pygments_lexer": "ipython3",
   "version": "3.10.8"
  }
 },
 "nbformat": 4,
 "nbformat_minor": 5
}
