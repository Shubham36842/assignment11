{
 "cells": [
  {
   "cell_type": "raw",
   "id": "9f8edb32-2dba-4562-9515-d0b9331cde00",
   "metadata": {},
   "source": [
    "Q1. What is the Probability density function?\n"
   ]
  },
  {
   "cell_type": "raw",
   "id": "ef4a3e93-4f4e-43bd-a2c2-5db14f2f1dc8",
   "metadata": {},
   "source": [
    "Ans:-Probability density function (PDF) is used to define the random variable’s probability        coming within a distinct range of values, as opposed to taking on any one value.\n",
    "     The Probability Density Function(PDF) defines the probability function representing the      density of a continuous random variable lying between a specific range of values."
   ]
  },
  {
   "cell_type": "raw",
   "id": "27fdb94d-756b-4423-910d-c1dffd47943b",
   "metadata": {},
   "source": [
    "Q2. What are the types of Probability distribution?\n"
   ]
  },
  {
   "cell_type": "raw",
   "id": "e0cec785-9ee1-497e-a25d-4681c26fa08b",
   "metadata": {},
   "source": [
    "Ans:-There are two types of probability distributions: \n",
    "Discrete probability distributions-probabality is define at integral points(pmf is used).\n",
    "Continuous probability distributions-probabality is define at any point(pdf is used) using                                          area under curve."
   ]
  },
  {
   "cell_type": "raw",
   "id": "fb59c094-527e-4078-a171-f3abc9a4a243",
   "metadata": {},
   "source": [
    "Q3. Write a Python function to calculate the probability density function of a normal distribution with given mean and standard deviation at a given point.\n"
   ]
  },
  {
   "cell_type": "code",
   "execution_count": 7,
   "id": "99185eb5-4f36-4959-8ef8-8ee1d6d80ac6",
   "metadata": {},
   "outputs": [
    {
     "name": "stdout",
     "output_type": "stream",
     "text": [
      "0.0804410163156249\n"
     ]
    }
   ],
   "source": [
    "from scipy.stats import norm\n",
    "import numpy as np\n",
    "\n",
    "data_start = -5\n",
    "data_end = 5\n",
    "data_points = 11\n",
    "data = np.linspace(data_start, data_end, data_points)\n",
    "\n",
    "mean = np.mean(data)\n",
    "std = np.std(data)\n",
    "\n",
    "probability_pdf = norm.pdf(3, loc=mean, scale=std)\n",
    "print(probability_pdf)\n"
   ]
  },
  {
   "cell_type": "raw",
   "id": "8818ba4d-f515-4abf-aefd-97ed8faf9ea2",
   "metadata": {},
   "source": [
    "Q4. What are the properties of Binomial distribution? Give two examples of events where binomial distribution can be applied.\n"
   ]
  },
  {
   "cell_type": "raw",
   "id": "c4c5444c-fa23-4e82-bbbd-a8f9cb9be4f9",
   "metadata": {},
   "source": [
    "Ans:- The binomial distribution is the discrete probability distribution that gives only two       possible results in an experiment, either Success or Failure. There is 'n' number of         independent trials or a fixed number of n times repeated trials. The probability of           success or failure remains the same for each trial. \n",
    "      Example-if we toss a coin, there could be only two possible outcomes: heads or tails,                 and if any test is taken, then there could be only two results: pass or fail.                 This distribution is also called a binomial probability distribution.\n",
    "      Example-Number of correct guesses at 30 true-false questions when you randomly guess                 all answers."
   ]
  },
  {
   "cell_type": "raw",
   "id": "2efad07f-de16-44ff-b4b5-2f1ca1dce405",
   "metadata": {},
   "source": [
    "Q5. Generate a random sample of size 1000 from a binomial distribution with probability of success 0.4 and plot a histogram of the results using matplotlib.\n"
   ]
  },
  {
   "cell_type": "code",
   "execution_count": 14,
   "id": "8671dfd3-a324-4426-9680-bb7b5f251da2",
   "metadata": {},
   "outputs": [
    {
     "data": {
      "image/png": "[encoded data removed]",
      "text/plain": [
       "<Figure size 640x480 with 1 Axes>"
      ]
     },
     "metadata": {},
     "output_type": "display_data"
    }
   ],
   "source": [
    "from scipy.stats import binom\n",
    "import matplotlib.pyplot as plt\n",
    "# setting the values\n",
    "# of n and p\n",
    "n = 1000\n",
    "p = 0.6\n",
    "# defining list of r values\n",
    "r_values = list(range(n + 1))\n",
    "# list of pmf values\n",
    "dist = [binom.pmf(r, n, p) for r in r_values ]\n",
    "# plotting the graph\n",
    "plt.hist(dist)\n",
    "plt.show()\n"
   ]
  },
  {
   "cell_type": "raw",
   "id": "46b0835d-df3d-4a2f-ad7f-aa049b1c1d19",
   "metadata": {},
   "source": [
    "Q6. Write a Python function to calculate the cumulative distribution function of a Poisson distribution with given mean at a given point."
   ]
  },
  {
   "cell_type": "code",
   "execution_count": 14,
   "id": "a01bb8bd-925a-48a3-af9a-7c0d91e3893d",
   "metadata": {},
   "outputs": [
    {
     "data": {
      "text/plain": [
       "0.06708596287903189"
      ]
     },
     "execution_count": 14,
     "metadata": {},
     "output_type": "execute_result"
    }
   ],
   "source": [
    "import scipy.stats as stat\n",
    "import numpy as np\n",
    "#here mu is mean and k is a point\n",
    "cdf=stat.poisson.cdf(k=5,mu=10)\n",
    "cdf"
   ]
  },
  {
   "cell_type": "raw",
   "id": "9abf1c20-d41f-46b3-ad6f-a32754333fb5",
   "metadata": {},
   "source": [
    "Q7. How Binomial distribution different from Poisson distribution?\n"
   ]
  },
  {
   "cell_type": "raw",
   "id": "03881684-ace4-4d19-9b26-69817904b9e3",
   "metadata": {},
   "source": [
    "Ans:-Binomial distribution describes the distribution of binary data from a finite sample.          Thus it gives the probability of getting r events out of n trials. Poisson distribution        describes the distribution of binary data from an infinite sample. Thus it gives the          probability of getting r events in a population.\n",
    " \n",
    "     Binomial distribution is the one in which the number of outcomes are only two, that is        success or failure.Example of binomial distribution: Coin toss.\n",
    "     Poisson distribution is the one in which the number of possible outcomes has no limits.\n",
    "     Example of Poisson distribution: Number of insurance claims per day on an insurance            company."
   ]
  },
  {
   "cell_type": "raw",
   "id": "4948902b-a3b2-4336-abae-a10dbc91addd",
   "metadata": {},
   "source": [
    "Q8. Generate a random sample of size 1000 from a Poisson distribution with mean 5 and calculate the sample mean and variance.\n"
   ]
  },
  {
   "cell_type": "code",
   "execution_count": 18,
   "id": "662019f2-0e57-4d43-9265-b5dcb7d0115c",
   "metadata": {},
   "outputs": [
    {
     "name": "stdout",
     "output_type": "stream",
     "text": [
      "Poission distribution has sample mean and varience are 4.968  ,4.986976 respectivelly\n"
     ]
    }
   ],
   "source": [
    "import scipy.stats as st\n",
    "data=st.poisson.rvs(mu=5,size=1000)\n",
    "mean=data.mean()\n",
    "varience=data.var()\n",
    "print(\"Poission distribution has sample mean and varience are {}  ,{} respectivelly\".format(mean,varience))"
   ]
  },
  {
   "cell_type": "raw",
   "id": "347beccb-8dd2-4b46-91e4-b597f33392af",
   "metadata": {},
   "source": [
    "Q9. How mean and variance are related in Binomial distribution and Poisson distribution?\n"
   ]
  },
  {
   "cell_type": "raw",
   "id": "cc058f41-3313-4470-8c18-83ca17efd992",
   "metadata": {},
   "source": [
    "Ans:-For Bionomial-  Mean=np\n",
    "                     varience=npq\n",
    "                     mean>varience\n",
    "                     \n",
    "    For Poisson -    Mean=λ\n",
    "                    varience=λ\n",
    "                    mean=varience"
   ]
  },
  {
   "cell_type": "raw",
   "id": "42614fc2-4ca6-4909-8946-084562767e88",
   "metadata": {},
   "source": [
    "Q10. In normal distribution with respect to mean position, where does the least frequent data appear?"
   ]
  },
  {
   "cell_type": "raw",
   "id": "a83c4ef6-a750-409d-8994-af0308d10d1c",
   "metadata": {},
   "source": [
    "Ans:-In normal distribution with respect to mean position least frequent data appear  farther      away from the mean."
   ]
  }
 ],
 "metadata": {
  "kernelspec": {
   "display_name": "Python 3 (ipykernel)",
   "language": "python",
   "name": "python3"
  },
  "language_info": {
   "codemirror_mode": {
    "name": "ipython",
    "version": 3
   },
   "file_extension": ".py",
   "mimetype": "text/x-python",
   "name": "python",
   "nbconvert_exporter": "python",
   "pygments_lexer": "ipython3",
   "version": "3.10.8"
  }
 },
 "nbformat": 4,
 "nbformat_minor": 5
}
